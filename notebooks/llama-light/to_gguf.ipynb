{
 "cells": [
  {
   "cell_type": "markdown",
   "metadata": {},
   "source": [
    "# Convert pytorch model to gguf"
   ]
  },
  {
   "cell_type": "code",
   "execution_count": null,
   "metadata": {},
   "outputs": [],
   "source": [
    "# installing the huggingface_hub\n",
    "! pip install -U \"huggingface_hub[cli]\""
   ]
  },
  {
   "cell_type": "code",
   "execution_count": null,
   "metadata": {},
   "outputs": [],
   "source": [
    "# login\n",
    "! huggingface-cli login\n",
    "# download model\n",
    "! huggingface-cli download \"LightXXXXX/llama-2-7b-light\""
   ]
  },
  {
   "cell_type": "code",
   "execution_count": null,
   "metadata": {},
   "outputs": [],
   "source": [
    "# download llama.cpp\n",
    "! git clone https://github.com/ggerganov/llama.cpp/tree/master\n",
    "! cd llama.cpp\n",
    "! pip install -r reqiurement.txt\n",
    "! cd .."
   ]
  },
  {
   "cell_type": "code",
   "execution_count": null,
   "metadata": {},
   "outputs": [],
   "source": [
    "# build f16\n",
    "! mkdir models\n",
    "! python3 llama.cpp/convert.py --model LightXXXXX/llama-2-7b-light --output models/llama-2-7b-light-f16.gguf"
   ]
  },
  {
   "cell_type": "code",
   "execution_count": null,
   "metadata": {},
   "outputs": [],
   "source": [
    "# quantize\n",
    "! cd llama.cpp\n",
    "! make\n",
    "! ./quantize ../models/llama-2-7b-light-f16.gguf ../models/llama-2-7b-light-Q4_K_M.gguf\n",
    "! cd .."
   ]
  },
  {
   "cell_type": "code",
   "execution_count": null,
   "metadata": {},
   "outputs": [],
   "source": [
    "# upload to huggingface\n",
    "! cd models\n",
    "! huggingface-cli upload LightXXXXX/llama-2-7b-light-gguf . ."
   ]
  }
 ],
 "metadata": {
  "kernelspec": {
   "display_name": "Python 3",
   "language": "python",
   "name": "python3"
  },
  "language_info": {
   "name": "python",
   "version": "3.12.0"
  }
 },
 "nbformat": 4,
 "nbformat_minor": 2
}
