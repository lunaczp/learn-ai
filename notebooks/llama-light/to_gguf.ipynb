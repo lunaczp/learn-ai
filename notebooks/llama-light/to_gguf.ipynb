{
  "cells": [
    {
      "cell_type": "markdown",
      "metadata": {
        "colab_type": "text",
        "id": "view-in-github"
      },
      "source": [
        "<a href=\"https://colab.research.google.com/github/lunaczp/learn-ai/blob/main/notebooks/llama-light/to_gguf.ipynb\" target=\"_parent\"><img src=\"https://colab.research.google.com/assets/colab-badge.svg\" alt=\"Open In Colab\"/></a>"
      ]
    },
    {
      "cell_type": "markdown",
      "metadata": {
        "id": "AtLstdXUR3kV"
      },
      "source": [
        "# Convert pytorch model to gguf\n",
        "- [blog](https://sarinsuriyakoon.medium.com/convert-pytorch-model-to-quantize-gguf-to-run-on-ollama-5c5dbc458208)"
      ]
    },
    {
      "cell_type": "code",
      "execution_count": null,
      "metadata": {
        "colab": {
          "base_uri": "https://localhost:8080/"
        },
        "collapsed": true,
        "id": "sCMCeoMgR3kZ",
        "outputId": "d328408e-185e-4fb9-8cfa-87d52b1b8806"
      },
      "outputs": [],
      "source": [
        "# installing the huggingface_hub\n",
        "! pip install -U \"huggingface_hub[cli]\""
      ]
    },
    {
      "cell_type": "code",
      "execution_count": null,
      "metadata": {
        "id": "R7liC1lkR3ka"
      },
      "outputs": [],
      "source": [
        "# login\n",
        "! huggingface-cli login\n",
        "# download model\n",
        "! huggingface-cli download \"LightXXXXX/llama-2-7b-light\" --local-dir llama-2-7b-light/"
      ]
    },
    {
      "cell_type": "code",
      "execution_count": null,
      "metadata": {
        "collapsed": true,
        "id": "p65l9TD1R3kb"
      },
      "outputs": [],
      "source": [
        "# download llama.cpp\n",
        "! git clone https://github.com/ggerganov/llama.cpp\n",
        "%cd llama.cpp\n",
        "! pip install -r requirements.txt\n",
        "%cd ../"
      ]
    },
    {
      "cell_type": "code",
      "execution_count": null,
      "metadata": {
        "collapsed": true,
        "id": "ms5JZ86UR3kb"
      },
      "outputs": [],
      "source": [
        "# build f16\n",
        "! mkdir models\n",
        "! python3 llama.cpp/convert.py --outtype f16 --outfile models/llama-2-7b-light-f16.gguf llama-2-7b-light/"
      ]
    },
    {
      "cell_type": "code",
      "execution_count": null,
      "metadata": {
        "collapsed": true,
        "id": "TGTH2f5CR3kb"
      },
      "outputs": [],
      "source": [
        "# quantize\n",
        "%cd llama.cpp\n",
        "! make\n",
        "! ./quantize ../models/llama-2-7b-light-f16.gguf ../models/llama-2-7b-light-Q4_K_M.gguf Q4_K_M\n",
        "%cd ../"
      ]
    },
    {
      "cell_type": "code",
      "execution_count": null,
      "metadata": {
        "id": "_4gEDeO9R3kc"
      },
      "outputs": [],
      "source": [
        "# upload to huggingface\n",
        "%cd models\n",
        "! huggingface-cli upload LightXXXXX/llama-2-7b-light-gguf . ."
      ]
    }
  ],
  "metadata": {
    "colab": {
      "include_colab_link": true,
      "provenance": []
    },
    "kernelspec": {
      "display_name": "Python 3",
      "language": "python",
      "name": "python3"
    },
    "language_info": {
      "name": "python",
      "version": "3.12.0"
    }
  },
  "nbformat": 4,
  "nbformat_minor": 0
}
