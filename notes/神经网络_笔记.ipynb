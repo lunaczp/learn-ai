{
  "nbformat": 4,
  "nbformat_minor": 0,
  "metadata": {
    "colab": {
      "provenance": [],
      "authorship_tag": "ABX9TyPyObLiMKEd37/ercVl+O7P",
      "include_colab_link": true
    },
    "kernelspec": {
      "name": "python3",
      "display_name": "Python 3"
    },
    "language_info": {
      "name": "python"
    }
  },
  "cells": [
    {
      "cell_type": "markdown",
      "metadata": {
        "id": "view-in-github",
        "colab_type": "text"
      },
      "source": [
        "<a href=\"https://colab.research.google.com/github/lunaczp/learn-ai/blob/main/notes/%E7%A5%9E%E7%BB%8F%E7%BD%91%E7%BB%9C_%E7%AC%94%E8%AE%B0.ipynb\" target=\"_parent\"><img src=\"https://colab.research.google.com/assets/colab-badge.svg\" alt=\"Open In Colab\"/></a>"
      ]
    },
    {
      "cell_type": "markdown",
      "source": [
        "神经网络、深度学习\n",
        "- (objective)定义目标\n",
        "- (target) 定义损失函数\n",
        "- (net/tool) 定义网络\n",
        "- (train) 想办法调整网络，以使损失最小（更接近目标）\n",
        "  - 网络自身定义\n",
        "    - 权重、偏置（weight、bias）\n",
        "    - 激活函数（非线性化）\n",
        "  - 通过工具，降低损失\n",
        "    - （数学办法）梯度下降（求导，找到下降方向，调整权重）\n",
        "\n",
        "\n",
        "\n",
        "# Ref\n",
        "- [梯度、导数](https://www.cnblogs.com/shine-lee/p/11715033.html)\n",
        "\n"
      ],
      "metadata": {
        "id": "fphVBCjfXGsI"
      }
    }
  ]
}