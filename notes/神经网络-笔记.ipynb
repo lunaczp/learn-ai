神经网络、深度学习
- (objective)定义目标
- (target) 定义损失函数
- (net/tool) 定义网络
- (train) 想办法调整网络，以使损失最小（更接近目标）
  - 网络自身定义
    - 权重、偏置（weight、bias）
    - 激活函数（非线性化）
  - 通过工具，降低损失
    - （数学办法）梯度下降（求导，找到下降方向，调整权重）



# Ref
- [梯度、导数](https://www.cnblogs.com/shine-lee/p/11715033.html)
